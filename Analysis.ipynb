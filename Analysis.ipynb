{
 "cells": [
  {
   "cell_type": "code",
   "execution_count": 2,
   "metadata": {},
   "outputs": [],
   "source": [
    "import numpy as np\n",
    "import pandas as pd\n",
    "import matplotlib.pyplot as plt\n",
    "\n",
    "import seaborn as sns\n"
   ]
  },
  {
   "attachments": {},
   "cell_type": "markdown",
   "metadata": {},
   "source": [
    "import sleep data on the pandas dataframe"
   ]
  },
  {
   "cell_type": "code",
   "execution_count": 3,
   "metadata": {},
   "outputs": [],
   "source": [
    "df = pd.read_csv('sleep_data_new.csv')"
   ]
  },
  {
   "cell_type": "code",
   "execution_count": 4,
   "metadata": {},
   "outputs": [
    {
     "data": {
      "text/html": [
       "<div>\n",
       "<style scoped>\n",
       "    .dataframe tbody tr th:only-of-type {\n",
       "        vertical-align: middle;\n",
       "    }\n",
       "\n",
       "    .dataframe tbody tr th {\n",
       "        vertical-align: top;\n",
       "    }\n",
       "\n",
       "    .dataframe thead th {\n",
       "        text-align: right;\n",
       "    }\n",
       "</style>\n",
       "<table border=\"1\" class=\"dataframe\">\n",
       "  <thead>\n",
       "    <tr style=\"text-align: right;\">\n",
       "      <th></th>\n",
       "      <th>type</th>\n",
       "      <th>sourceName</th>\n",
       "      <th>creationDate</th>\n",
       "      <th>startDate</th>\n",
       "      <th>endDate</th>\n",
       "      <th>value</th>\n",
       "      <th>sourceVersion</th>\n",
       "      <th>device</th>\n",
       "    </tr>\n",
       "  </thead>\n",
       "  <tbody>\n",
       "    <tr>\n",
       "      <th>0</th>\n",
       "      <td>HKCategoryTypeIdentifierSleepAnalysis</td>\n",
       "      <td>Sync Solver</td>\n",
       "      <td>19-04-2015 09:42</td>\n",
       "      <td>20-02-2015 01:45</td>\n",
       "      <td>20-02-2015 08:09</td>\n",
       "      <td>HKCategoryValueSleepAnalysisAsleepUnspecified</td>\n",
       "      <td>NaN</td>\n",
       "      <td>NaN</td>\n",
       "    </tr>\n",
       "    <tr>\n",
       "      <th>1</th>\n",
       "      <td>HKCategoryTypeIdentifierSleepAnalysis</td>\n",
       "      <td>Sync Solver</td>\n",
       "      <td>19-04-2015 09:42</td>\n",
       "      <td>20-02-2015 01:39</td>\n",
       "      <td>20-02-2015 08:46</td>\n",
       "      <td>HKCategoryValueSleepAnalysisInBed</td>\n",
       "      <td>NaN</td>\n",
       "      <td>NaN</td>\n",
       "    </tr>\n",
       "    <tr>\n",
       "      <th>2</th>\n",
       "      <td>HKCategoryTypeIdentifierSleepAnalysis</td>\n",
       "      <td>Sync Solver</td>\n",
       "      <td>19-04-2015 09:42</td>\n",
       "      <td>21-02-2015 01:59</td>\n",
       "      <td>21-02-2015 09:34</td>\n",
       "      <td>HKCategoryValueSleepAnalysisAsleepUnspecified</td>\n",
       "      <td>NaN</td>\n",
       "      <td>NaN</td>\n",
       "    </tr>\n",
       "    <tr>\n",
       "      <th>3</th>\n",
       "      <td>HKCategoryTypeIdentifierSleepAnalysis</td>\n",
       "      <td>Sync Solver</td>\n",
       "      <td>19-04-2015 09:42</td>\n",
       "      <td>21-02-2015 01:52</td>\n",
       "      <td>21-02-2015 09:57</td>\n",
       "      <td>HKCategoryValueSleepAnalysisInBed</td>\n",
       "      <td>NaN</td>\n",
       "      <td>NaN</td>\n",
       "    </tr>\n",
       "    <tr>\n",
       "      <th>4</th>\n",
       "      <td>HKCategoryTypeIdentifierSleepAnalysis</td>\n",
       "      <td>Sync Solver</td>\n",
       "      <td>19-04-2015 09:42</td>\n",
       "      <td>22-02-2015 02:50</td>\n",
       "      <td>22-02-2015 09:11</td>\n",
       "      <td>HKCategoryValueSleepAnalysisAsleepUnspecified</td>\n",
       "      <td>NaN</td>\n",
       "      <td>NaN</td>\n",
       "    </tr>\n",
       "  </tbody>\n",
       "</table>\n",
       "</div>"
      ],
      "text/plain": [
       "                                    type   sourceName      creationDate  \\\n",
       "0  HKCategoryTypeIdentifierSleepAnalysis  Sync Solver  19-04-2015 09:42   \n",
       "1  HKCategoryTypeIdentifierSleepAnalysis  Sync Solver  19-04-2015 09:42   \n",
       "2  HKCategoryTypeIdentifierSleepAnalysis  Sync Solver  19-04-2015 09:42   \n",
       "3  HKCategoryTypeIdentifierSleepAnalysis  Sync Solver  19-04-2015 09:42   \n",
       "4  HKCategoryTypeIdentifierSleepAnalysis  Sync Solver  19-04-2015 09:42   \n",
       "\n",
       "          startDate           endDate  \\\n",
       "0  20-02-2015 01:45  20-02-2015 08:09   \n",
       "1  20-02-2015 01:39  20-02-2015 08:46   \n",
       "2  21-02-2015 01:59  21-02-2015 09:34   \n",
       "3  21-02-2015 01:52  21-02-2015 09:57   \n",
       "4  22-02-2015 02:50  22-02-2015 09:11   \n",
       "\n",
       "                                           value sourceVersion device  \n",
       "0  HKCategoryValueSleepAnalysisAsleepUnspecified           NaN    NaN  \n",
       "1              HKCategoryValueSleepAnalysisInBed           NaN    NaN  \n",
       "2  HKCategoryValueSleepAnalysisAsleepUnspecified           NaN    NaN  \n",
       "3              HKCategoryValueSleepAnalysisInBed           NaN    NaN  \n",
       "4  HKCategoryValueSleepAnalysisAsleepUnspecified           NaN    NaN  "
      ]
     },
     "execution_count": 4,
     "metadata": {},
     "output_type": "execute_result"
    }
   ],
   "source": [
    "df.head()"
   ]
  },
  {
   "cell_type": "code",
   "execution_count": 5,
   "metadata": {},
   "outputs": [
    {
     "data": {
      "text/html": [
       "<div>\n",
       "<style scoped>\n",
       "    .dataframe tbody tr th:only-of-type {\n",
       "        vertical-align: middle;\n",
       "    }\n",
       "\n",
       "    .dataframe tbody tr th {\n",
       "        vertical-align: top;\n",
       "    }\n",
       "\n",
       "    .dataframe thead th {\n",
       "        text-align: right;\n",
       "    }\n",
       "</style>\n",
       "<table border=\"1\" class=\"dataframe\">\n",
       "  <thead>\n",
       "    <tr style=\"text-align: right;\">\n",
       "      <th></th>\n",
       "      <th>type</th>\n",
       "      <th>sourceName</th>\n",
       "      <th>creationDate</th>\n",
       "      <th>startDate</th>\n",
       "      <th>endDate</th>\n",
       "      <th>value</th>\n",
       "      <th>sourceVersion</th>\n",
       "      <th>device</th>\n",
       "    </tr>\n",
       "  </thead>\n",
       "  <tbody>\n",
       "    <tr>\n",
       "      <th>count</th>\n",
       "      <td>8034</td>\n",
       "      <td>8034</td>\n",
       "      <td>8034</td>\n",
       "      <td>8034</td>\n",
       "      <td>8034</td>\n",
       "      <td>8034</td>\n",
       "      <td>7760</td>\n",
       "      <td>116</td>\n",
       "    </tr>\n",
       "    <tr>\n",
       "      <th>unique</th>\n",
       "      <td>1</td>\n",
       "      <td>4</td>\n",
       "      <td>630</td>\n",
       "      <td>5653</td>\n",
       "      <td>7240</td>\n",
       "      <td>2</td>\n",
       "      <td>29</td>\n",
       "      <td>5</td>\n",
       "    </tr>\n",
       "    <tr>\n",
       "      <th>top</th>\n",
       "      <td>HKCategoryTypeIdentifierSleepAnalysis</td>\n",
       "      <td>Sync Solver</td>\n",
       "      <td>26-09-2020 14:10</td>\n",
       "      <td>28-03-2018 00:56</td>\n",
       "      <td>09-09-2021 08:16</td>\n",
       "      <td>HKCategoryValueSleepAnalysisAsleepUnspecified</td>\n",
       "      <td>32</td>\n",
       "      <td>&lt;&lt;HKDevice: 0x2807b0870&gt;, name:iPhone, manufac...</td>\n",
       "    </tr>\n",
       "    <tr>\n",
       "      <th>freq</th>\n",
       "      <td>8034</td>\n",
       "      <td>4320</td>\n",
       "      <td>2139</td>\n",
       "      <td>4</td>\n",
       "      <td>4</td>\n",
       "      <td>4441</td>\n",
       "      <td>2139</td>\n",
       "      <td>48</td>\n",
       "    </tr>\n",
       "  </tbody>\n",
       "</table>\n",
       "</div>"
      ],
      "text/plain": [
       "                                         type   sourceName      creationDate  \\\n",
       "count                                    8034         8034              8034   \n",
       "unique                                      1            4               630   \n",
       "top     HKCategoryTypeIdentifierSleepAnalysis  Sync Solver  26-09-2020 14:10   \n",
       "freq                                     8034         4320              2139   \n",
       "\n",
       "               startDate           endDate  \\\n",
       "count               8034              8034   \n",
       "unique              5653              7240   \n",
       "top     28-03-2018 00:56  09-09-2021 08:16   \n",
       "freq                   4                 4   \n",
       "\n",
       "                                                value sourceVersion  \\\n",
       "count                                            8034          7760   \n",
       "unique                                              2            29   \n",
       "top     HKCategoryValueSleepAnalysisAsleepUnspecified            32   \n",
       "freq                                             4441          2139   \n",
       "\n",
       "                                                   device  \n",
       "count                                                 116  \n",
       "unique                                                  5  \n",
       "top     <<HKDevice: 0x2807b0870>, name:iPhone, manufac...  \n",
       "freq                                                   48  "
      ]
     },
     "execution_count": 5,
     "metadata": {},
     "output_type": "execute_result"
    }
   ],
   "source": [
    "df.describe()"
   ]
  },
  {
   "cell_type": "code",
   "execution_count": 7,
   "metadata": {},
   "outputs": [
    {
     "data": {
      "text/plain": [
       "(8034, 8)"
      ]
     },
     "execution_count": 7,
     "metadata": {},
     "output_type": "execute_result"
    }
   ],
   "source": [
    "df.shape"
   ]
  },
  {
   "cell_type": "code",
   "execution_count": null,
   "metadata": {},
   "outputs": [],
   "source": []
  }
 ],
 "metadata": {
  "kernelspec": {
   "display_name": "Python 3",
   "language": "python",
   "name": "python3"
  },
  "language_info": {
   "codemirror_mode": {
    "name": "ipython",
    "version": 3
   },
   "file_extension": ".py",
   "mimetype": "text/x-python",
   "name": "python",
   "nbconvert_exporter": "python",
   "pygments_lexer": "ipython3",
   "version": "3.10.2"
  },
  "orig_nbformat": 4
 },
 "nbformat": 4,
 "nbformat_minor": 2
}
